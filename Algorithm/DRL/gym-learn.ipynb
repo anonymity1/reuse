{
 "cells": [
  {
   "cell_type": "markdown",
   "metadata": {},
   "source": [
    "# 使用gymnasium作为智能体的模拟环境\n",
    "\n",
    "过去两三年，gym，一个openai开发的仓库比较流行，但是到2023年openai放弃了对它的维护。\n",
    "\n",
    "Farama基金会，一个也是做强化学习库的中立组织，接手了这个工作，并将其更名为gymnasium。\n",
    "\n",
    "致力于接入更多的强化学习算法、原语和加速。\n",
    "\n",
    "相关说明参考该[链接](https://farama.org/Announcing-The-Farama-Foundation)。"
   ]
  },
  {
   "cell_type": "markdown",
   "metadata": {},
   "source": [
    "## Hello World\n",
    "\n",
    "文档参考该[链接](https://gymnasium.farama.org/content/basic_usage/)\n",
    "\n",
    "习惯：\n",
    "\n",
    "```\n",
    "import gymasium as gym\n",
    "```\n",
    "\n",
    "强化学习中的概念[s, a, r, p, \\gamma]，状态、动作、奖励、转移概率、衰减系数和gymasium中api的对应关系：\n",
    "\n",
    "状态空间是env.observation_space，动作空间是env.action_space。实现上从Space类继承。\n",
    "\n",
    "状态空间和动作空间有很多预定义的空间类型（ndarray类型）：\n",
    "\n",
    "- Box：描述了一个 n 维连续空间。这是一个有界空间，我们可以定义上限和下限，这些限制描述了我们的观察可以采用的有效值。\n",
    "\n",
    "- Discrete：描述了一个离散空间，其中 {0, 1, …, n-1} 是观察或动作可能采用的可能值。可以使用可选参数将值移位为 {a, a+1, …, a+n-1}。\n",
    "\n",
    "- Dict：表示简单空间的字典。\n",
    "\n",
    "- Tuple：表示简单空间的元组。\n",
    "\n",
    "- MultiBinary：创建一个 n 维的二进制空间。参数 n 可以是一个数字或数字列表。\n",
    "\n",
    "- MultiDiscrete：由一系列不同动作数的离散动作空间组成，每个元素中的动作数都不同。\n",
    "\n",
    "还有一些更专业的空间类型，如 Graph、Sequence 和 Text。[文档1](https://gymnasium.farama.org/api/spaces/)描述了不同空间的使用示例。[文档2](https://gymnasium.farama.org/api/spaces/utils/)描述了一些有用的函数。"
   ]
  },
  {
   "cell_type": "code",
   "execution_count": 1,
   "metadata": {},
   "outputs": [
    {
     "name": "stdout",
     "output_type": "stream",
     "text": [
      "0.28.1\n",
      "Box([-4.8000002e+00 -3.4028235e+38 -4.1887903e-01 -3.4028235e+38], [4.8000002e+00 3.4028235e+38 4.1887903e-01 3.4028235e+38], (4,), float32)\n",
      "4\n"
     ]
    }
   ],
   "source": [
    "import gymnasium as gym\n",
    "\n",
    "print(gym.__version__) ## 查看版本\n",
    "\n",
    "env = gym.make(\"CartPole-v1\") ## 初始化环境用make函数，返回一个Env对象。\n",
    "\n",
    "# print(gym.envs.registry.keys()) ## 查看能够创建的环境列表\n",
    "\n",
    "## render_mode表示用什么交互界面展示环境\n",
    "# env = gym.make(\"LunarLander-v2\", render_mode=\"human\")\n",
    "\n",
    "# Env的reset函数表示重置环境，返回状态空间观测值和info。\n",
    "observation, info = env.reset(seed=42)\n",
    "print(env.observation_space)\n",
    "print(env.observation_space.shape[0])\n",
    "\n",
    "for _ in range(1000):\n",
    "    action = env.action_space.sample()\n",
    "\n",
    "    # step表示智能体与环境交互，返回五元组：状态空间观测值、奖励、是否到达终止态、智能体是否越界使得交互提前终止、info。\n",
    "    observation, reward, terminated, truncated, info = env.step(action)\n",
    "\n",
    "    if terminated or truncated:\n",
    "        observation, info = env.reset()\n",
    "env.close()"
   ]
  },
  {
   "cell_type": "markdown",
   "metadata": {},
   "source": [
    "## 一些简单的环境\n",
    "\n",
    "Cartpole：倒立摆\n",
    "\n",
    "动作空间：Discrete(2) 离散动作空间，0向左，1向右，\n",
    "\n",
    "观测空间：Box([-4.8000002e+00 -3.4028235e+38 -4.1887903e-01 -3.4028235e+38], [4.8000002e+00 3.4028235e+38 4.1887903e-01 3.4028235e+38], (4,), float32) （ndarray描述：4维float32类型），第一维表示位置信息，第二维表示速度，第三维表示倾角，第四维表示角速度。\n",
    "\n",
    "奖励：只要向右，则+1\n",
    "\n",
    "初始位置：（-0.05，0.05）之间随机\n",
    "\n",
    "Episode结束条件：\n",
    "\n",
    "- termination：倾角大于正负12°，或者距离超过正负2.4，\n",
    "\n",
    "- truncation：Episode长度大于500\n",
    "\n",
    "转移概率：**p(s',r|s,a)未知**。"
   ]
  },
  {
   "cell_type": "markdown",
   "metadata": {},
   "source": [
    "### 一些注释\n",
    "\n",
    "model-free和model-based：转移概率已知则是model-based，动态规划和蒙特卡洛就是model-based的，因为转移函数已知。蒙特卡洛针对样本空间巨大的问题（围棋），采样部分数据进行训练。动态规划则记录所有状态的值（背包问题）。\n",
    "\n",
    "value-based和policy-based：智能体学习环境中不同状态的值，根据状态值隐式确定策略就是value-based的方法，直接学习策略的值是policy-based，需要用到策略梯度定理证明策略梯度下降方向。两者结合是actor-acritic方法。\n",
    "\n",
    "Monte-Carlo update和Temporal-Difference Update：回合更新和单步更新\n",
    "\n",
    "On-policy和Off-policy：On-policy使用最新的策略，off-policy可以用经验回放。"
   ]
  }
 ],
 "metadata": {
  "kernelspec": {
   "display_name": "lab2",
   "language": "python",
   "name": "python3"
  },
  "language_info": {
   "codemirror_mode": {
    "name": "ipython",
    "version": 3
   },
   "file_extension": ".py",
   "mimetype": "text/x-python",
   "name": "python",
   "nbconvert_exporter": "python",
   "pygments_lexer": "ipython3",
   "version": "3.8.16"
  },
  "orig_nbformat": 4
 },
 "nbformat": 4,
 "nbformat_minor": 2
}
